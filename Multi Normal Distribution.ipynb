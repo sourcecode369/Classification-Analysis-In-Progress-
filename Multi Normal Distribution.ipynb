{
 "cells": [
  {
   "cell_type": "code",
   "execution_count": 18,
   "metadata": {},
   "outputs": [],
   "source": [
    "import numpy as np\n",
    "import matplotlib.pyplot as plt\n",
    "import seaborn as sns\n",
    "%matplotlib inline"
   ]
  },
  {
   "cell_type": "code",
   "execution_count": 24,
   "metadata": {},
   "outputs": [],
   "source": [
    "a1 = np.random.normal(0,1,1000000)"
   ]
  },
  {
   "cell_type": "code",
   "execution_count": 25,
   "metadata": {},
   "outputs": [],
   "source": [
    "a2 = a1*2"
   ]
  },
  {
   "cell_type": "code",
   "execution_count": 26,
   "metadata": {},
   "outputs": [
    {
     "data": {
      "text/plain": [
       "(array([  2.00000000e+00,   0.00000000e+00,   3.00000000e+00,\n",
       "          3.00000000e+00,   1.60000000e+01,   4.20000000e+01,\n",
       "          5.70000000e+01,   1.30000000e+02,   2.90000000e+02,\n",
       "          5.39000000e+02,   9.09000000e+02,   1.58800000e+03,\n",
       "          2.81400000e+03,   4.34800000e+03,   6.95900000e+03,\n",
       "          1.01260000e+04,   1.46040000e+04,   2.05660000e+04,\n",
       "          2.70190000e+04,   3.53090000e+04,   4.43420000e+04,\n",
       "          5.28790000e+04,   6.12660000e+04,   6.83960000e+04,\n",
       "          7.37560000e+04,   7.61760000e+04,   7.59580000e+04,\n",
       "          7.37860000e+04,   6.81920000e+04,   6.06080000e+04,\n",
       "          5.25760000e+04,   4.37780000e+04,   3.47600000e+04,\n",
       "          2.69960000e+04,   2.00280000e+04,   1.43330000e+04,\n",
       "          9.93100000e+03,   6.49200000e+03,   4.30900000e+03,\n",
       "          2.73100000e+03,   1.52200000e+03,   8.69000000e+02,\n",
       "          4.86000000e+02,   2.42000000e+02,   1.41000000e+02,\n",
       "          6.50000000e+01,   2.90000000e+01,   1.50000000e+01,\n",
       "          1.00000000e+01,   4.00000000e+00]),\n",
       " array([-4.98906976, -4.79691611, -4.60476245, -4.4126088 , -4.22045514,\n",
       "        -4.02830149, -3.83614783, -3.64399418, -3.45184052, -3.25968687,\n",
       "        -3.06753321, -2.87537956, -2.6832259 , -2.49107225, -2.29891859,\n",
       "        -2.10676494, -1.91461128, -1.72245763, -1.53030397, -1.33815032,\n",
       "        -1.14599666, -0.95384301, -0.76168935, -0.5695357 , -0.37738204,\n",
       "        -0.18522839,  0.00692527,  0.19907892,  0.39123258,  0.58338623,\n",
       "         0.77553989,  0.96769354,  1.1598472 ,  1.35200085,  1.54415451,\n",
       "         1.73630816,  1.92846182,  2.12061547,  2.31276913,  2.50492278,\n",
       "         2.69707644,  2.88923009,  3.08138375,  3.2735374 ,  3.46569106,\n",
       "         3.65784471,  3.84999837,  4.04215202,  4.23430568,  4.42645933,\n",
       "         4.61861299]),\n",
       " <a list of 50 Patch objects>)"
      ]
     },
     "execution_count": 26,
     "metadata": {},
     "output_type": "execute_result"
    },
    {
     "data": {
      "image/png": "[encoded data removed]",
      "text/plain": [
       "<matplotlib.figure.Figure at 0x2586b2cc588>"
      ]
     },
     "metadata": {},
     "output_type": "display_data"
    }
   ],
   "source": [
    "plt.hist(a2,bins=50)\n",
    "plt.hist(a1,bins=50)"
   ]
  },
  {
   "cell_type": "code",
   "execution_count": null,
   "metadata": {},
   "outputs": [],
   "source": []
  }
 ],
 "metadata": {
  "kernelspec": {
   "display_name": "Python 3",
   "language": "python",
   "name": "python3"
  },
  "language_info": {
   "codemirror_mode": {
    "name": "ipython",
    "version": 3
   },
   "file_extension": ".py",
   "mimetype": "text/x-python",
   "name": "python",
   "nbconvert_exporter": "python",
   "pygments_lexer": "ipython3",
   "version": "3.5.2"
  },
  "widgets": {
   "state": {},
   "version": "1.1.2"
  }
 },
 "nbformat": 4,
 "nbformat_minor": 2
}
